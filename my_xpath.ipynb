{
 "cells": [
  {
   "cell_type": "markdown",
   "metadata": {},
   "source": [
    "### 爬取58同城二手房信息 "
   ]
  },
  {
   "cell_type": "code",
   "execution_count": 1,
   "metadata": {},
   "outputs": [],
   "source": [
    "import requests\n",
    "from lxml import etree"
   ]
  },
  {
   "cell_type": "code",
   "execution_count": 2,
   "metadata": {
    "scrolled": true
   },
   "outputs": [
    {
     "name": "stdout",
     "output_type": "stream",
     "text": [
      "over\n"
     ]
    }
   ],
   "source": [
    "\n",
    "url = 'https://bj.58.com/shahe/ershoufang/?PGTID=0d30000c-0047-e76f-dd99-6fbf783b8ab5&ClickID=1'\n",
    "headers = {\n",
    "    'User-Agent': 'Mozilla/5.0 (Windows NT 10.0; Win64; x64) AppleWebKit/537.36 (KHTML, like Gecko) Chrome/72.0.3626.121 Safari/537.36'\n",
    "}\n",
    "\n",
    "page_text = requests.get(url=url, headers=headers).text\n",
    "\n",
    "tree = etree.HTML(page_text)\n",
    "li_list = tree.xpath('//ul[@class=\"house-list-wrap\"]/li')\n",
    "fp = open('58.csv', 'w', encoding='utf-8')\n",
    "for li in li_list:\n",
    "    title = li.xpath('./div[2]/h2/a/text()')[0]\n",
    "    price = li.xpath('./div[3]//text()')\n",
    "    price = [i.strip() for i in price]\n",
    "    price = ''.join(price)\n",
    "    fp.write(title+\":\"+price+\"\\n\")\n",
    "fp.close()\n",
    "print('over')"
   ]
  },
  {
   "cell_type": "markdown",
   "metadata": {},
   "source": [
    "### 解析图片数据`http://pic.netbian.com/4kmeinv/`"
   ]
  },
  {
   "cell_type": "code",
   "execution_count": 3,
   "metadata": {},
   "outputs": [],
   "source": [
    "import requests\n",
    "from lxml import etree\n",
    "import os\n",
    "import urllib"
   ]
  },
  {
   "cell_type": "code",
   "execution_count": 4,
   "metadata": {},
   "outputs": [
    {
     "name": "stdout",
     "output_type": "stream",
     "text": [
      "./imgs/Áõ¼Îçù4k±ÚÖ½.jpg 下载成功\n",
      "./imgs/Áõ¼Îçù ÐÔ¸ÐÉí²Ä¿É°®Ä£ÌØ.jpg 下载成功\n",
      "./imgs/ÐÔ¸ÐÃÀÅ®Ð´Õæ½­ÇÙ3840x2.jpg 下载成功\n",
      "./imgs/¿ËÀ­Å®Éñ½­ÇÙ ¾Ó¼ÒÉ³·¢Ñø.jpg 下载成功\n",
      "./imgs/ÌÇ¹ûÐÔ¸ÐÃÀÅ®4k±ÚÖ½.jpg 下载成功\n",
      "./imgs/ÓÈ¹ûÍøÃÀÅ®ÕÔÖÇåû4k±ÚÖ½.jpg 下载成功\n",
      "./imgs/ÌÇ¹û ÃÀÅ®Ä£ÌØ4k±ÚÖ½.jpg 下载成功\n",
      "./imgs/ÁèÑ© ÐÔ¸Ð¿Õ½ãÃÀÅ®4k±ÚÖ½.jpg 下载成功\n",
      "./imgs/½­ÇÙ ½ðÖ¦ÓñÒ¶4kÃÀÅ®±ÚÖ½.jpg 下载成功\n",
      "./imgs/ÁõÞÈÄþLynn °×É«ÒÂ·þ ºÚ.jpg 下载成功\n",
      "./imgs/½ªè´4k±ÚÖ½.jpg 下载成功\n",
      "./imgs/ÁõÞÈÄþ ³¤·¢ÃÔÈËÃÀÅ® ¿É.jpg 下载成功\n",
      "./imgs/ÃÀÅ®Å®º¢ Á³ ×ØÉ«Í··¢ ³¤.jpg 下载成功\n",
      "./imgs/Ã¨±¦ ·ÛÉ«ÄÚÒÂ Æ¤Ã« ÐÔ¸Ð.jpg 下载成功\n",
      "./imgs/¿É°®ÐÔ¸ÐÁõ¼Îçù3440x144.jpg 下载成功\n",
      "./imgs/Áõ¼Îçù °×É«ÄÚÒÂÐÔ¸ÐÉí²Ä.jpg 下载成功\n",
      "./imgs/´©°×É«Ã«ÒÂÃÀÅ®Áõ¼Îçù4k.jpg 下载成功\n",
      "./imgs/±È»ùÄáÃÀÅ®æºÈ»4k±ÚÖ½.jpg 下载成功\n",
      "./imgs/ÖÆ·þÃÀÅ® ÃÀÍÈ Ä½ÓðÜç4K.jpg 下载成功\n",
      "./imgs/ãåÔ¡ÃÀÅ®æºÈ»4k±ÚÖ½.jpg 下载成功\n",
      "./imgs/ÁõÞÈÄþLynn±È»ùÄá ÐÔ¸ÐÄÚ.jpg 下载成功\n",
      "over\n"
     ]
    }
   ],
   "source": [
    "\"\"\"\n",
    "因为编码格式导致乱码问题\n",
    "\"\"\"\n",
    "url = 'http://pic.netbian.com/4kmeinv/'\n",
    "headers ={\n",
    "    'User-Agent': 'Mozilla/5.0 (Windows NT 10.0; Win64; x64) AppleWebKit/537.36 (KHTML, like Gecko) Chrome/72.0.3626.121 Safari/537.36'\n",
    "}\n",
    "response = requests.get(url=url, headers=headers)\n",
    "page_test = response.text\n",
    "\n",
    "if not os.path.exists('./imgs'):\n",
    "    os.mkdir('./imgs')\n",
    "\n",
    "tree = etree.HTML(page_test)\n",
    "li_list = tree.xpath('//ul[@class=\"clearfix\"]/li')\n",
    "\n",
    "for li in li_list:\n",
    "    img_name = li.xpath('./a/b/text()')[0]\n",
    "    img_url = 'http://pic.netbian.com/'+li.xpath('./a/img/@src')[0]\n",
    "    img_path = './imgs/'+img_name+'.jpg'\n",
    "    urllib.request.urlretrieve(url=img_url, filename=img_path)\n",
    "    print(img_path, '下载成功')\n",
    "\n",
    "print(\"over\")"
   ]
  },
  {
   "cell_type": "code",
   "execution_count": 5,
   "metadata": {},
   "outputs": [
    {
     "name": "stdout",
     "output_type": "stream",
     "text": [
      "./imgs/刘嘉琦4k壁纸.jpg 下载成功\n",
      "./imgs/刘嘉琦 性感身材可爱模特.jpg 下载成功\n",
      "./imgs/性感美女写真江琴3840x2.jpg 下载成功\n",
      "./imgs/克拉女神江琴 居家沙发养.jpg 下载成功\n",
      "./imgs/糖果性感美女4k壁纸.jpg 下载成功\n",
      "./imgs/尤果网美女赵智妍4k壁纸.jpg 下载成功\n",
      "./imgs/糖果 美女模特4k壁纸.jpg 下载成功\n",
      "./imgs/凌雪 性感空姐美女4k壁纸.jpg 下载成功\n",
      "./imgs/江琴 金枝玉叶4k美女壁纸.jpg 下载成功\n",
      "./imgs/刘奕宁Lynn 白色衣服 黑.jpg 下载成功\n",
      "./imgs/姜璐4k壁纸.jpg 下载成功\n",
      "./imgs/刘奕宁 长发迷人美女 可.jpg 下载成功\n",
      "./imgs/美女女孩 脸 棕色头发 长.jpg 下载成功\n",
      "./imgs/猫宝 粉色内衣 皮毛 性感.jpg 下载成功\n",
      "./imgs/可爱性感刘嘉琦3440x144.jpg 下载成功\n",
      "./imgs/刘嘉琦 白色内衣性感身材.jpg 下载成功\n",
      "./imgs/穿白色毛衣美女刘嘉琦4k.jpg 下载成功\n",
      "./imgs/比基尼美女婧然4k壁纸.jpg 下载成功\n",
      "./imgs/制服美女 美腿 慕羽茜4K.jpg 下载成功\n",
      "./imgs/沐浴美女婧然4k壁纸.jpg 下载成功\n",
      "./imgs/刘奕宁Lynn比基尼 性感内.jpg 下载成功\n",
      "over\n"
     ]
    }
   ],
   "source": [
    "\"\"\"\n",
    "解决编码问题\n",
    "\"\"\"\n",
    "url = 'http://pic.netbian.com/4kmeinv/'\n",
    "headers ={\n",
    "    'User-Agent': 'Mozilla/5.0 (Windows NT 10.0; Win64; x64) AppleWebKit/537.36 (KHTML, like Gecko) Chrome/72.0.3626.121 Safari/537.36'\n",
    "}\n",
    "response = requests.get(url=url, headers=headers) # response.encoding = 'utf-8'\n",
    "page_test = response.text\n",
    "\n",
    "if not os.path.exists('./imgs'):\n",
    "    os.mkdir('./imgs')\n",
    "\n",
    "tree = etree.HTML(page_test)\n",
    "li_list = tree.xpath('//ul[@class=\"clearfix\"]/li')\n",
    "for li in li_list:\n",
    "    img_name = li.xpath('./a/b/text()')[0]\n",
    "    # 处理中文乱码\n",
    "    img_name = img_name.encode('iso-8859-1').decode('gbk') \n",
    "    img_url = 'http://pic.netbian.com/'+li.xpath('./a/img/@src')[0]\n",
    "    img_path = './imgs/'+img_name+'.jpg'\n",
    "    urllib.request.urlretrieve(url=img_url, filename=img_path)\n",
    "    print(img_path, '下载成功')\n",
    "\n",
    "print(\"over\")"
   ]
  },
  {
   "cell_type": "markdown",
   "metadata": {},
   "source": [
    "### 爬取站长素材中的简历模板"
   ]
  },
  {
   "cell_type": "code",
   "execution_count": null,
   "metadata": {},
   "outputs": [],
   "source": [
    "import requests\n",
    "import random\n",
    "from lxml import etree\n",
    "import os\n",
    "\n",
    "if not os.path.exists(\"./jianli\"):\n",
    "    os.mkdir(\"./jianli\")\n",
    "    \n",
    "url = 'http://sc.chinaz.com/jianli/free_%d.html'\n",
    "headers={\n",
    "    'User-Agent': 'Mozilla/5.0 (Windows NT 10.0; Win64; x64) AppleWebKit/537.36 (KHTML, like Gecko) Chrome/72.0.3626.121 Safari/537.36',\n",
    "    'Connection': 'close'\n",
    "}\n",
    "for page in range(1,4):\n",
    "    if page ==1:\n",
    "        new_url = 'http://sc.chinaz.com/jianli/free.html'\n",
    "    else:\n",
    "        new_url = format(url%page)\n",
    "    response= requests.get(url=new_url, headers=headers)\n",
    "    response.encoding = 'utf-8'\n",
    "    page_text = response.text\n",
    "\n",
    "\n",
    "\n",
    "    tree = etree.HTML(page_text)\n",
    "    div_list = tree.xpath('//div[@id=\"container\"]/div')\n",
    "    for div in div_list:\n",
    "        detail_url = div.xpath('./a/@href')[0]\n",
    "        name = div.xpath('./p/a/text()')[0]\n",
    "\n",
    "        detail_page_text = requests.get(url=detail_url, headers=headers).text\n",
    "        tree = etree.HTML(detail_page_text)\n",
    "\n",
    "    #     download_list = tree.xpath('//ul[@class=\"clearfix\"]/li/a/@href')\n",
    "        download_list  = tree.xpath('//div[@class=\"clearfix mt20 downlist\"]/ul/li/a/@href')\n",
    "    #     print(download_list)\n",
    "        download_url = random.choice(download_list)\n",
    "    #     print(download_url)\n",
    "        data = requests.get(url=download_url, headers=headers).content\n",
    "        filename = \"./jianli/\"+name+\".rar\"\n",
    "        with open(filename,\"wb\") as fp:\n",
    "            fp.write(data)\n",
    "            print(filename, \"下载成功\")\n",
    "print(\"所有简历下载成功!\")"
   ]
  },
  {
   "cell_type": "markdown",
   "metadata": {},
   "source": [
    "### 下载煎蛋网中的图片数据"
   ]
  },
  {
   "cell_type": "code",
   "execution_count": 3,
   "metadata": {},
   "outputs": [
    {
     "name": "stdout",
     "output_type": "stream",
     "text": [
      "0073ob6Pgy1g13lrqbidyj30yi0my7ry.jpg 下载成功\n",
      "006XNEY7gy1g13lfez2jpj30go0p1jt2.jpg 下载成功\n",
      "e754c107gy1g13kscufcuj20o60w8qn0.jpg 下载成功\n",
      "007EGrmWly1g13kpxtnb7j31601k0b2a.jpg 下载成功\n",
      "0073ob6Pgy1g13kp6769sg30lc0h2npj.gif 下载成功\n",
      "0073tLPGgy1g13korndmlj30u011eb29.jpg 下载成功\n",
      "6a680279ly1g13kmyykvzj218g0p0gql.jpg 下载成功\n",
      "0076BSS5ly1g13kehzf9qj30nw0zudmy.jpg 下载成功\n",
      "006XNEY7gy1g13k2oaewqj30jg0jgdn0.jpg 下载成功\n",
      "0073ob6Pgy1g13k2roaqgj30jg0obgtk.jpg 下载成功\n",
      "0073ob6Pgy1g13k0qmd0oj30h80mfahp.jpg 下载成功\n",
      "569faa97gy1g13jy2dl2aj20vi1k01kx.jpg 下载成功\n",
      "0076BSS5ly1g13jsctjvjj30iz0sg420.jpg 下载成功\n",
      "0073ob6Pgy1g13jh54nx2j31400u0drk.jpg 下载成功\n",
      "0073tLPGgy1g13j8b8mecj30dw0kp0ug.jpg 下载成功\n",
      "0076BSS5ly1g13iit92e6j30u0190qml.jpg 下载成功\n",
      "0073ob6Pgy1g13ht5u0zrj30u01404qp.jpg 下载成功\n",
      "006XNEY7gy1g13ht002iaj30u01404ol.jpg 下载成功\n",
      "007bAH2Vly1g13hgv1yz2j31jk15ohdt.jpg 下载成功\n",
      "下载完毕\n"
     ]
    }
   ],
   "source": [
    "import requests\n",
    "from lxml import etree\n",
    "import base64\n",
    "import urllib\n",
    "import os\n",
    "\n",
    "if not os.path.exists(\"./jiandan\"):\n",
    "    os.mkdir(\"./jiandan\")\n",
    "headers={\n",
    "    'User-Agent': 'Mozilla/5.0 (Windows NT 10.0; Win64; x64) AppleWebKit/537.36 (KHTML, like Gecko) Chrome/72.0.3626.121 Safari/537.36',\n",
    "}\n",
    "url = \"http://jandan.net/ooxx\"\n",
    "\n",
    "page_text = requests.get(url=url, headers=headers).text\n",
    "tree = etree.HTML(page_text)\n",
    "img_hash_list = tree.xpath('//span[@class=\"img-hash\"]/text()')\n",
    "for img_hash in img_hash_list:\n",
    "    img_url = 'http:'+ base64.b64decode(img_hash).decode()\n",
    "    img_name = img_url.split('/')[-1]\n",
    "    urllib.request.urlretrieve(url=img_url, filename=\"./jiandan/\"+img_name)\n",
    "    print(img_name,\"下载成功\")\n",
    "print(\"下载完毕\")"
   ]
  },
  {
   "cell_type": "markdown",
   "metadata": {},
   "source": [
    "### 解析所有城市名字"
   ]
  },
  {
   "cell_type": "code",
   "execution_count": null,
   "metadata": {},
   "outputs": [],
   "source": [
    "import requests\n",
    "from lxml import etree\n",
    "headers = {\n",
    "    'Connection':'close', #当请求成功后,马上断开该次请求(及时释放请求池中的资源)\n",
    "    'User-Agent':'Mozilla/5.0 (Windows NT 6.1; Win64; x64) AppleWebKit/537.36 (KHTML, like Gecko) Chrome/72.0.3626.119 Safari/537.36'\n",
    "}\n",
    "url = 'https://www.aqistudy.cn/historydata/'\n",
    "page_text = requests.get(url=url,headers=headers).text\n",
    "\n",
    "tree = etree.HTML(page_text)\n",
    "li_list = tree.xpath('//div[@class=\"bottom\"]/ul/li | //div[@class=\"bottom\"]/ul/div[2]/li')\n",
    "for li in li_list:\n",
    "    city_name = li.xpath('./a/text()')[0]\n",
    "    print(city_name)"
   ]
  },
  {
   "cell_type": "markdown",
   "metadata": {},
   "source": [
    "### 设置请求的代理IP\n",
    "- 常用免费代理 www.goubanjia.com  快代理  西祠代理"
   ]
  },
  {
   "cell_type": "code",
   "execution_count": 9,
   "metadata": {},
   "outputs": [],
   "source": [
    "url = 'https://www.baidu.com/s?wd=ip'\n",
    "# 设置代理时代理ip的类型必须和请求url的协议头保持一致\n",
    "headers={\n",
    "    'User-Agent': 'Mozilla/5.0 (Windows NT 10.0; Win64; x64) AppleWebKit/537.36 (KHTML, like Gecko) Chrome/72.0.3626.121 Safari/537.36',\n",
    "}\n",
    "page_text = requests.get(url=url, headers=headers, proxies={'https':'80.227.218.57:80'}).text\n",
    "\n",
    "with open('./ip.html', 'w', encoding='utf-8') as fp:\n",
    "    fp.write(page_text)\n"
   ]
  },
  {
   "cell_type": "code",
   "execution_count": null,
   "metadata": {},
   "outputs": [],
   "source": []
  },
  {
   "cell_type": "code",
   "execution_count": null,
   "metadata": {},
   "outputs": [],
   "source": []
  },
  {
   "cell_type": "code",
   "execution_count": null,
   "metadata": {},
   "outputs": [],
   "source": []
  },
  {
   "cell_type": "code",
   "execution_count": null,
   "metadata": {},
   "outputs": [],
   "source": []
  },
  {
   "cell_type": "code",
   "execution_count": null,
   "metadata": {},
   "outputs": [],
   "source": []
  },
  {
   "cell_type": "code",
   "execution_count": null,
   "metadata": {},
   "outputs": [],
   "source": []
  },
  {
   "cell_type": "code",
   "execution_count": null,
   "metadata": {},
   "outputs": [],
   "source": []
  },
  {
   "cell_type": "code",
   "execution_count": null,
   "metadata": {},
   "outputs": [],
   "source": []
  }
 ],
 "metadata": {
  "kernelspec": {
   "display_name": "Python 3",
   "language": "python",
   "name": "python3"
  },
  "language_info": {
   "codemirror_mode": {
    "name": "ipython",
    "version": 3
   },
   "file_extension": ".py",
   "mimetype": "text/x-python",
   "name": "python",
   "nbconvert_exporter": "python",
   "pygments_lexer": "ipython3",
   "version": "3.7.2"
  }
 },
 "nbformat": 4,
 "nbformat_minor": 2
}
